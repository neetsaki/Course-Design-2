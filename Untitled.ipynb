{
 "cells": [
  {
   "cell_type": "markdown",
   "metadata": {},
   "source": [
    "#生产能力kg/s\n",
    "flow=30/24/3600*1000"
   ]
  },
  {
   "cell_type": "code",
   "execution_count": 1,
   "metadata": {},
   "outputs": [
    {
     "data": {
      "text/plain": [
       "0.11538461538461538"
      ]
     },
     "execution_count": 1,
     "metadata": {},
     "output_type": "execute_result"
    }
   ],
   "source": [
    "#mole fraction\n",
    "x_D=(0.94/46)/(0.94/46+0.06/18)\n",
    "x_B=(0.001/46)/(0.001/46+0.999/18)\n",
    "x_F=(0.25/46)/(0.25/46+0.75/18)"
   ]
  },
  {
   "cell_type": "code",
   "execution_count": 2,
   "metadata": {},
   "outputs": [
    {
     "data": {
      "text/plain": [
       "11.836927128798163"
      ]
     },
     "execution_count": 2,
     "metadata": {},
     "output_type": "execute_result"
    }
   ],
   "source": [
    "#minimun stages calculation\n",
    "T_D=78.2+273.15\n",
    "T_B=99.8+273.15\n",
    "p_EtOH_D=10^(7.30243-1630.868/(T_D-43.569))\n",
    "p_EtOH_B=10^(6.84806-1358.124/(T_B-71.034))\n",
    "p_water_D=10^(7.11564-1687.537/(T_D-42.98))\n",
    "p_water_B=10^(7.11564-1687.537/(T_B-42.98))\n",
    "alpha_D=p_EtOH_D/p_water_D\n",
    "alpha_B=p_EtOH_B/p_water_B\n",
    "alpha=sqrt(alpha_D*alpha_B)\n",
    "N_m=log(x_D/(1-x_D)*(1-x_B)/x_B)/log(alpha)"
   ]
  },
  {
   "cell_type": "code",
   "execution_count": 3,
   "metadata": {},
   "outputs": [
    {
     "data": {
      "text/plain": [
       "10.117415234239775"
      ]
     },
     "execution_count": 3,
     "metadata": {},
     "output_type": "execute_result"
    }
   ],
   "source": [
    "#Underwood Eq\n",
    "theta=1.97391645\n",
    "R_min=(1-x_D)/(1-theta)+alpha*(x_D)/(alpha-theta)-1\n",
    "R=1.8*R_min"
   ]
  },
  {
   "cell_type": "code",
   "execution_count": 4,
   "metadata": {},
   "outputs": [
    {
     "ename": "UndefVarError",
     "evalue": "UndefVarError: flow not defined",
     "output_type": "error",
     "traceback": [
      "UndefVarError: flow not defined",
      "",
      "Stacktrace:",
      " [1] top-level scope at In[4]:5"
     ]
    }
   ],
   "source": [
    "#mass Eq\n",
    "#R_min from matlab\n",
    "R_min=2.0645\n",
    "R=1.8*R_min\n",
    "D=(flow*0.94/46+flow*0.06/18)*1000;\n",
    "solve=inv([1 -1 1;x_F -x_B 0;0 0 1])*[D;D*x_D;(R+1)*D]\n",
    "F=solve[1]\n",
    "B=solve[2]\n",
    "V_0=solve[3]"
   ]
  },
  {
   "cell_type": "code",
   "execution_count": 5,
   "metadata": {},
   "outputs": [
    {
     "data": {
      "text/plain": [
       "1×3 Array{Float64,2}:\n",
       " 0.859756  0.000391543  0.115385"
      ]
     },
     "execution_count": 5,
     "metadata": {},
     "output_type": "execute_result"
    }
   ],
   "source": [
    "[x_D x_B x_F]"
   ]
  },
  {
   "cell_type": "code",
   "execution_count": 6,
   "metadata": {},
   "outputs": [
    {
     "ename": "UndefVarError",
     "evalue": "UndefVarError: F not defined",
     "output_type": "error",
     "traceback": [
      "UndefVarError: F not defined",
      "",
      "Stacktrace:",
      " [1] top-level scope at In[6]:1"
     ]
    }
   ],
   "source": [
    "#unit mol/s\n",
    "[F,V_0,D,B]"
   ]
  },
  {
   "cell_type": "code",
   "execution_count": 7,
   "metadata": {},
   "outputs": [
    {
     "ename": "UndefVarError",
     "evalue": "UndefVarError: V_0 not defined",
     "output_type": "error",
     "traceback": [
      "UndefVarError: V_0 not defined",
      "",
      "Stacktrace:",
      " [1] top-level scope at In[7]:1"
     ]
    }
   ],
   "source": [
    "#V'\n",
    "V_prime=V_0\n",
    "L=R*D\n",
    "L_prime=L+F\n",
    "[L L_prime V_0 V_prime]\n",
    "\n",
    "#=Aspen result\n",
    "L=7.06\n",
    "L_prime=21.7\n",
    "V_0=8.99\n",
    "V_prime=9.2=#"
   ]
  },
  {
   "cell_type": "code",
   "execution_count": 8,
   "metadata": {},
   "outputs": [
    {
     "data": {
      "text/plain": [
       "18.596843387766274"
      ]
     },
     "execution_count": 8,
     "metadata": {},
     "output_type": "execute_result"
    }
   ],
   "source": [
    "#idea stages from Grilliland figure\n",
    "X=(R-R_min)/(R+1)\n",
    "Y=1-exp((1+54.4*X)*(X-1)/(11+117.2*X)/sqrt(X))\n",
    "N=(Y+N_m)/(1-Y)"
   ]
  },
  {
   "cell_type": "code",
   "execution_count": 9,
   "metadata": {},
   "outputs": [
    {
     "data": {
      "text/plain": [
       "0.9116472474647767"
      ]
     },
     "execution_count": 9,
     "metadata": {},
     "output_type": "execute_result"
    }
   ],
   "source": [
    "#stage efficiency\n",
    "E_T=0.5\n",
    "T=(106.861+78.8242)/2\n",
    "\n",
    "0.17-0.616log(0.3)"
   ]
  },
  {
   "cell_type": "code",
   "execution_count": 10,
   "metadata": {},
   "outputs": [
    {
     "data": {
      "text/plain": [
       "1×3 Array{Float64,2}:\n",
       " 17.3501  56.9145  17.8162"
      ]
     },
     "execution_count": 10,
     "metadata": {},
     "output_type": "execute_result"
    }
   ],
   "source": [
    "#surface tension calculation\n",
    "q=2\n",
    "T_D=78.8255\n",
    "T_B=106.815\n",
    "T_F=89.9305\n",
    "#surface tension,pure,unit:dyn/cm\n",
    "sigma_e_D=17.3496144267588\n",
    "sigma_e_B=14.6413477845619\n",
    "sigma_e_F=16.2960387828613\n",
    "sigma_w_D=62.3193571276298\n",
    "sigma_w_B=56.9180940502544\n",
    "sigma_w_F=60.1893524530583\n",
    "#mole volume unit:ccm/mol\n",
    "V_e_D=1/0.0159383960755079\n",
    "V_e_B=1/0.0155345167312197\n",
    "V_e_F=1/0.0156829574583475\n",
    "V_w_D=1/0.053825020877694\n",
    "V_w_B=1/0.0532409595776902\n",
    "V_w_F=1/0.0534594853416629\n",
    "phi_water_D=(1-x_D)*V_w_D/((1-x_D)*V_w_D+x_D*V_e_D)\n",
    "phi_ethnaol_D=x_D*V_e_D/((1-x_D)*V_w_D+x_D*V_e_D)\n",
    "phi_water_B=(1-x_B)*V_w_B/((1-x_B)*V_w_B+x_B*V_e_B)\n",
    "phi_ethnaol_B=x_B*V_e_B/((1-x_B)*V_w_B+x_B*V_e_B)\n",
    "phi_water_F=(1-x_F)*V_w_F/((1-x_F)*V_w_F+x_F*V_e_F)\n",
    "phi_ethnaol_F=x_F*V_e_F/((1-x_F)*V_w_F+x_F*V_e_F)\n",
    "\n",
    "Q_D=0.441*q/T_D*(sigma_e_D*V_e_D^(2/3)/q-sigma_w_D*V_w_D^(2/3))\n",
    "Q_B=0.441*q/T_B*(sigma_e_B*V_e_B^(2/3)/q-sigma_w_B*V_w_B^(2/3))\n",
    "Q_F=0.441*q/T_F*(sigma_e_F*V_e_F^(2/3)/q-sigma_w_F*V_w_F^(2/3))\n",
    "\n",
    "B_D=log(phi_water_D^q/phi_ethnaol_D)\n",
    "B_B=log(phi_water_B^q/phi_ethnaol_B)\n",
    "B_F=log(phi_water_F^q/phi_ethnaol_F)\n",
    "\n",
    "A_D=B_D+Q_D\n",
    "A_B=B_B+Q_B\n",
    "A_F=B_F+Q_F\n",
    "\n",
    "phi_se_D=(2+10^A_D-sqrt((10^A_D+2)^2-4))/2\n",
    "phi_sw_D=1-phi_se_D\n",
    "phi_se_B=(2+10^A_B-sqrt((10^A_B+2)^2-4))/2\n",
    "phi_sw_B=1-phi_se_B\n",
    "phi_se_F=(2+10^A_F-sqrt((10^A_F+2)^2-4))/2\n",
    "phi_sw_F=1-phi_se_F\n",
    "\n",
    "sigma_m_D=(phi_sw_D*sigma_w_D^0.25+phi_se_D*sigma_e_D^0.25)^4\n",
    "sigma_m_B=(phi_sw_B*sigma_w_B^0.25+phi_se_B*sigma_e_B^0.25)^4\n",
    "sigma_m_F=(phi_sw_F*sigma_w_F^0.25+phi_se_F*sigma_e_F^0.25)^4\n",
    "#compare with Aspen database\n",
    "sigma_D=23.4028341490826\n",
    "sigma_B=56.9272057495209\n",
    "sigma_F=54.3729402955967\n",
    "\n",
    "[sigma_m_D sigma_m_B sigma_m_F]"
   ]
  },
  {
   "cell_type": "code",
   "execution_count": 11,
   "metadata": {},
   "outputs": [
    {
     "ename": "UndefVarError",
     "evalue": "UndefVarError: D not defined",
     "output_type": "error",
     "traceback": [
      "UndefVarError: D not defined",
      "",
      "Stacktrace:",
      " [1] top-level scope at In[11]:9"
     ]
    }
   ],
   "source": [
    "#properties\n",
    "#Molar Density,kmol/m^3\n",
    "MD_D_L=17.566120355233\n",
    "MD_D_V=0.0355382795548142\n",
    "MD_B_L=50.5309214121779\n",
    "MD_B_V=0.0407411639790688\n",
    "MD_F_L=40.6191292799249\n",
    "MD_F_V=0.045852963826942\n",
    "\n",
    "#pressure(bar)/temperature/vapor molewieght/liquid moleweight/rho_vapor/rho_liquid/sigma/V_sm/L_sm(m^3/s)\n",
    "prop_D=[1.04 78.8255 42.3789 42.2578 1.5051 743.118 sigma_D 0 D/1000/MD_D_L]\n",
    "prop_F=[1.2 89.9305 31.1044 21.2523 1.23644 868.019 sigma_F 0 F/1000/MD_F_L]\n",
    "prop_B=[1.28679 106.815 18.0153 18.6153 0.735287 910.956 sigma_B 0 B/1000/MD_B_L]\n",
    "prop_distill=(prop_D+prop_F)/2\n",
    "prop_ex=(prop_F+prop_B)/2\n",
    "\n",
    "#vapor flow(m^3/s) corrected by aspen simulation\n",
    "prop_distill[8]=39.048/1000/((MD_D_V+MD_F_V)/2)\n",
    "prop_ex[8]=39.2276/1000/((MD_B_V+MD_F_V)/2)"
   ]
  },
  {
   "cell_type": "code",
   "execution_count": 12,
   "metadata": {},
   "outputs": [
    {
     "ename": "UndefVarError",
     "evalue": "UndefVarError: prop_distill not defined",
     "output_type": "error",
     "traceback": [
      "UndefVarError: prop_distill not defined",
      "",
      "Stacktrace:",
      " [1] top-level scope at In[12]:1"
     ]
    }
   ],
   "source": [
    "#精馏段塔径\n",
    "#两相流动参数\n",
    "F_LV=prop_distill[9]/prop_distill[8]*(prop_distill[6]/prop_distill[5])^0.5\n",
    "#气体负荷因子\n",
    "H_T=0.61\n",
    "h_I=0.05\n",
    "H=H_T-h_I\n",
    "C_f=exp(-4.531+1.6562*H+5.5496*H^2-6.4695*H^3+(-0.474675+0.079*H-1.39*H^2+1.3212*H^3)*log(F_LV)+(-0.07291+0.088307*H-0.49123*H^2+0.43196*H^3)*log(F_LV)^2)\n",
    "#液泛气速\n",
    "u_f=C_f*(prop_distill[6]/prop_distill[5]-1)^0.5\n",
    "u=0.7*u_f\n",
    "#column diameter\n",
    "D=sqrt(4*prop_distill[8]/pi/u)"
   ]
  },
  {
   "cell_type": "code",
   "execution_count": 13,
   "metadata": {},
   "outputs": [
    {
     "ename": "UndefVarError",
     "evalue": "UndefVarError: prop_ex not defined",
     "output_type": "error",
     "traceback": [
      "UndefVarError: prop_ex not defined",
      "",
      "Stacktrace:",
      " [1] top-level scope at In[13]:1"
     ]
    }
   ],
   "source": [
    "#提馏段塔径\n",
    "#两相流动参数\n",
    "F_LV=prop_ex[9]/prop_ex[8]*(prop_ex[6]/prop_ex[5])^0.5\n",
    "#气体负荷因子\n",
    "H_T=0.61\n",
    "h_I=0.05\n",
    "H=H_T-h_I\n",
    "C_f=exp(-4.531+1.6562*H+5.5496*H^2-6.4695*H^3+(-0.474675+0.079*H-1.39*H^2+1.3212*H^3)*log(F_LV)+(-0.07291+0.088307*H-0.49123*H^2+0.43196*H^3)*log(F_LV)^2)\n",
    "#液泛气速\n",
    "u_f=C_f*(prop_ex[6]/prop_ex[5]-1)^0.5\n",
    "u=0.7*u_f\n",
    "#column diameter\n",
    "D=sqrt(4*prop_ex[8]/pi/u)"
   ]
  },
  {
   "cell_type": "code",
   "execution_count": 14,
   "metadata": {},
   "outputs": [
    {
     "ename": "UndefVarError",
     "evalue": "UndefVarError: prop_ex not defined",
     "output_type": "error",
     "traceback": [
      "UndefVarError: prop_ex not defined",
      "",
      "Stacktrace:",
      " [1] top-level scope at In[14]:1"
     ]
    }
   ],
   "source": [
    "#塔高计算\n",
    "H_b=4*60*prop_ex[9]/(pi*0.8^2/4)\n",
    "n=38\n",
    "n_f=2\n",
    "n_p=4\n",
    "H_t=0.61\n",
    "H_d=0.72\n",
    "H_b=0.8\n",
    "H_f=0.61\n",
    "H_p=0.5\n",
    "H_all=(n-n_f-n_p-1)*H_t+H_d+H_b+H_f*n_f+H_p*n_p"
   ]
  },
  {
   "cell_type": "code",
   "execution_count": 15,
   "metadata": {},
   "outputs": [
    {
     "ename": "UndefVarError",
     "evalue": "UndefVarError: prop_distill not defined",
     "output_type": "error",
     "traceback": [
      "UndefVarError: prop_distill not defined",
      "",
      "Stacktrace:",
      " [1] top-level scope at In[15]:5"
     ]
    }
   ],
   "source": [
    "#塔板结构尺寸\n",
    "D=0.8\n",
    "L=0.529\n",
    "H=0.1\n",
    "\n",
    "#堰上液层厚度\n",
    "h_pw_dist=2.84/1000*1*(prop_distill[9]*3600/L)^(2/3)\n",
    "#出口堰高度\n",
    "h_w=0.04\n",
    "#底隙高度\n",
    "h_o=0.0263\n",
    "#底隙处流速\n",
    "u_o_prime_distill=prop_distill[9]/L/h_o\n",
    "u_o_prime_ex=prop_ex[9]/L/h_o\n",
    "#阀孔动能因子\n",
    "u_o_distill=prop_distill[8]/(pi/4*0.8^2*0.109)\n",
    "F_o_distill=u_o*sqrt(prop_distill[5]*0.7)\n",
    "u_o_ex=prop_ex[8]/(pi/4*0.8^2*0.109)\n",
    "F_o_ex=u_o*sqrt(prop_ex[5]*0.7)\n",
    "#临界孔速\n",
    "u_oc=(73.1/prop_distill[5])^(1/1.875)\n",
    "#精馏段单板压降\n",
    "h_c_distill=5.34*prop_distill[5]*u_o^2/2/prop_distill[6]/9.81\n",
    "h_l_distill=0.5*(h_w+h_o)##dyn/cm=1mN/m\n",
    "h_sigma_distill=2*prop_distill[7]/1000/0.0127/prop_distill[6]/9.81\n",
    "drop_p_distill=prop_distill[6]*9.81*(h_c_distill+h_l_distill+h_sigma_distill)\n",
    "#提馏段单板压降\n",
    "h_c_ex=5.34*prop_ex[5]*u_o^2/2/prop_ex[6]/9.81\n",
    "h_l_ex=0.5*(h_w+h_o)##dyn/cm=1mN/m\n",
    "h_sigma_ex=2*prop_ex[7]/1000/0.0127/prop_ex[6]/9.81\n",
    "drop_p_ex=prop_ex[6]*9.81*(h_c_ex+h_l_ex+h_sigma_ex)\n",
    "#精馏段降液管液泛\n",
    "H_d_distill=(h_c_distill+h_l_distill+h_sigma_distill)+(h_w+h_o)+0.153*u_o_prime_distill^2\n",
    "phi_we_distill=H_d/(H_t+h_w)\n",
    "#提馏段降液管液泛\n",
    "H_d_ex=(h_c_ex+h_l_ex+h_sigma_ex)+(h_w+h_o)+0.153*u_o_prime_ex^2\n",
    "phi_we_ex=H_d/(H_t+h_w)\n",
    "#泛点率e\n",
    "K=1\n",
    "C_F_distill=0.11\n",
    "C_F_ex=0.103\n",
    "e_distill=prop_distill[8]*sqrt(prop_distill[5]/(prop_distill[6]-prop_distill[5]))/0.78/C_F_distill/(pi*0.8^2/4)\n",
    "e_ex=prop_ex[8]*sqrt(prop_ex[5]/(prop_ex[6]-prop_ex[5]))/0.78/C_F_ex/(pi*0.8^2/4)"
   ]
  },
  {
   "cell_type": "code",
   "execution_count": 16,
   "metadata": {},
   "outputs": [
    {
     "ename": "UndefVarError",
     "evalue": "UndefVarError: C_F_distill not defined",
     "output_type": "error",
     "traceback": [
      "UndefVarError: C_F_distill not defined",
      "",
      "Stacktrace:",
      " [1] top-level scope at In[16]:3"
     ]
    }
   ],
   "source": [
    "#精馏段塔板负荷性能图\n",
    "e_distill_max=0.8\n",
    "\n",
    "#过量液沫夹带线m3/h\n",
    "V_distill_max=0.78*C_F_distill*(pi*0.8^2/4)*e_distill_max/sqrt(prop_ex[5]/(prop_ex[6]-prop_ex[5]))*3600\n",
    "\n",
    "#液相下限线m3/h\n",
    "L_distill_min=0.006^1.5*L/(0.00284)^1.5\n",
    "\n",
    "#严重漏液线m3/h\n",
    "F_o_min=6\n",
    "V_distill_min=(pi/4*0.8^2*0.109)*F_o_min/sqrt(prop_distill[5])*3600\n",
    "\n",
    "#液相上限线m3/h\n",
    "u_o_prime_distill_max=0.25\n",
    "L_distill_max=u_o_prime_distill_max*L*h_o*3600\n",
    "\n",
    "#降液管液泛线m3/h\n",
    "H_d_distill_max=0.6*(0.6+h_w)\n",
    "A_distill=5.34*prop_distill[5]/2/prop_distill[6]/9.81/(pi/4*0.8^2*0.109)^2/3600^2\n",
    "B_distill=0.153/(L*h_o)^2/3600^2\n",
    "C_distill=0.3840-0.03315-0.00075-0.0663\n"
   ]
  },
  {
   "cell_type": "code",
   "execution_count": 17,
   "metadata": {},
   "outputs": [
    {
     "ename": "UndefVarError",
     "evalue": "UndefVarError: C_F_ex not defined",
     "output_type": "error",
     "traceback": [
      "UndefVarError: C_F_ex not defined",
      "",
      "Stacktrace:",
      " [1] top-level scope at In[17]:3"
     ]
    }
   ],
   "source": [
    "#提馏段塔板负荷性能图\n",
    "e_ex_max=0.8\n",
    "\n",
    "#过量液沫夹带线m3/h\n",
    "V_ex_max=0.78*C_F_ex*(pi*0.8^2/4)*e_ex_max/sqrt(prop_ex[5]/(prop_ex[6]-prop_ex[5]))*3600\n",
    "\n",
    "#液相下限线m3/h\n",
    "L_ex_min=0.006^1.5*L/(0.00284)^1.5\n",
    "\n",
    "#严重漏液线m3/h\n",
    "F_o_min=6\n",
    "V_ex_min=(pi/4*0.8^2*0.109)*F_o_min/sqrt(prop_ex[5])*3600\n",
    "\n",
    "#液相上限线m3/h\n",
    "u_o_prime_ex_max=0.25\n",
    "L_ex_max=u_o_prime_ex_max*L*h_o*3600\n",
    "\n",
    "#降液管液泛线m3/h\n",
    "H_d_ex_max=0.6*(0.6+h_w)\n",
    "A_ex=5.34*prop_ex[5]/2/prop_ex[6]/9.81/(pi/4*0.8^2*0.109)^2/3600^2\n",
    "B_ex=0.153/(L*h_o)^2/3600^2\n",
    "C_ex=0.3840-0.03315-0.00075-0.0663"
   ]
  },
  {
   "cell_type": "code",
   "execution_count": 18,
   "metadata": {},
   "outputs": [
    {
     "ename": "UndefVarError",
     "evalue": "UndefVarError: prop_distill not defined",
     "output_type": "error",
     "traceback": [
      "UndefVarError: prop_distill not defined",
      "",
      "Stacktrace:",
      " [1] top-level scope at In[18]:1"
     ]
    }
   ],
   "source": [
    "#接管尺寸设计\n",
    "#水力学核算后根据Aspen结果更新性质m3/s\n",
    "prop_distill[8]=1.0922\n",
    "prop_distill[9]=0.00222395\n",
    "prop_ex[8]=0.99043\n",
    "prop_ex[9]=0.00183092\n",
    "prop_F[9]=0.0537359564733485\n",
    "prop_B[9]=0.00183091582038441\n",
    "\n",
    "#塔顶蒸汽出口管直径\n",
    "u_distill_vapor=20\n",
    "D_distill_vapor=sqrt(4*prop_distill[8]/pi/u_distill_vapor)\n",
    "\n",
    "#回流液管管径\n",
    "u_reflux=1\n",
    "D_distill_reflux=sqrt(4*prop_distill[9]/pi/u_reflux)\n",
    "\n",
    "#加料管径\n",
    "u_feed=2\n",
    "D_feed=sqrt(4*prop_F[9]/pi/u_feed)\n",
    "\n",
    "#残液排出管径\n",
    "u_bottom=0.8\n",
    "D_bottom=sqrt(4*prop_B[9]/pi/u_feed)\n",
    "\n",
    "#加热蒸汽管径\n",
    "V_0_volumn=0.628904762274061\n",
    "u_vapor=30\n",
    "D_vapor=sqrt(4*V_0_volumn/pi/u_vapor)"
   ]
  },
  {
   "cell_type": "code",
   "execution_count": 19,
   "metadata": {},
   "outputs": [
    {
     "ename": "UndefVarError",
     "evalue": "UndefVarError: prop_ex not defined",
     "output_type": "error",
     "traceback": [
      "UndefVarError: prop_ex not defined",
      "",
      "Stacktrace:",
      " [1] top-level scope at In[19]:1"
     ]
    }
   ],
   "source": [
    "prop_ex[8:9]"
   ]
  },
  {
   "cell_type": "code",
   "execution_count": 20,
   "metadata": {},
   "outputs": [
    {
     "ename": "UndefVarError",
     "evalue": "UndefVarError: prop_distill not defined",
     "output_type": "error",
     "traceback": [
      "UndefVarError: prop_distill not defined",
      "",
      "Stacktrace:",
      " [1] top-level scope at In[20]:1"
     ]
    }
   ],
   "source": [
    "prop_distill[8:9]"
   ]
  },
  {
   "cell_type": "code",
   "execution_count": 21,
   "metadata": {},
   "outputs": [
    {
     "ename": "UndefVarError",
     "evalue": "UndefVarError: prop_ex not defined",
     "output_type": "error",
     "traceback": [
      "UndefVarError: prop_ex not defined",
      "",
      "Stacktrace:",
      " [1] top-level scope at In[21]:1"
     ]
    }
   ],
   "source": [
    "4*prop_ex[8]/pi/0.8^2"
   ]
  },
  {
   "cell_type": "code",
   "execution_count": 22,
   "metadata": {},
   "outputs": [
    {
     "ename": "UndefVarError",
     "evalue": "UndefVarError: prop_distill not defined",
     "output_type": "error",
     "traceback": [
      "UndefVarError: prop_distill not defined",
      "",
      "Stacktrace:",
      " [1] top-level scope at In[22]:1"
     ]
    }
   ],
   "source": [
    "u_o=prop_distill[8]/(pi/4*0.8^2*0.109)\n",
    "F_o=u_o*sqrt(prop_distill[5]*0.7)\n"
   ]
  },
  {
   "cell_type": "code",
   "execution_count": null,
   "metadata": {},
   "outputs": [],
   "source": []
  }
 ],
 "metadata": {
  "kernelspec": {
   "display_name": "Julia 1.1.1",
   "language": "julia",
   "name": "julia-1.1"
  },
  "language_info": {
   "file_extension": ".jl",
   "mimetype": "application/julia",
   "name": "julia",
   "version": "1.1.1"
  }
 },
 "nbformat": 4,
 "nbformat_minor": 4
}
