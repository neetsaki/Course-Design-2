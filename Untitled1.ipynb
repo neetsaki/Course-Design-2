{
 "cells": [
  {
   "cell_type": "code",
   "execution_count": 3,
   "metadata": {},
   "outputs": [
    {
     "name": "stdout",
     "output_type": "stream",
     "text": [
      "[1.97391645]\n",
      "-8.326672684688674e-15\n"
     ]
    }
   ],
   "source": [
    "from scipy.optimize import fsolve\n",
    "x_D=(0.94/46)/(0.94/46+0.06/18)\n",
    "x_B=(0.001/46)/(0.001/46+0.999/18)\n",
    "x_F=(0.25/46)/(0.25/46+0.75/18)\n",
    "alpha=2.261157063262877\n",
    "def f(xi):\n",
    "    x=float(xi)\n",
    "    f=(1-x_F)/(1-x)+alpha*(x_F)/(alpha-x)\n",
    "    return f\n",
    "x=fsolve(f,1.5)\n",
    "print(x)\n",
    "print(f(x))"
   ]
  },
  {
   "cell_type": "code",
   "execution_count": 5,
   "metadata": {},
   "outputs": [
    {
     "ename": "SyntaxError",
     "evalue": "invalid syntax (<ipython-input-5-d356ad9caed2>, line 3)",
     "output_type": "error",
     "traceback": [
      "\u001b[1;36m  File \u001b[1;32m\"<ipython-input-5-d356ad9caed2>\"\u001b[1;36m, line \u001b[1;32m3\u001b[0m\n\u001b[1;33m    y=np.array([0.053 0.51 0.77 1.57 2.9 3.725 4.5 8.76 16.34 29.92 39.16 47.49 51.67 55.74 56.44 58.78 62.22 64.7 66.28 70.29 72.71 74.69 76.93 79.26 81.83 84.91 86.4 89.41])\u001b[0m\n\u001b[1;37m                         ^\u001b[0m\n\u001b[1;31mSyntaxError\u001b[0m\u001b[1;31m:\u001b[0m invalid syntax\n"
     ]
    }
   ],
   "source": [
    "#y-x figure\n",
    "import numpy as np\n",
    "y=np.array()"
   ]
  },
  {
   "cell_type": "code",
   "execution_count": null,
   "metadata": {},
   "outputs": [],
   "source": []
  }
 ],
 "metadata": {
  "kernelspec": {
   "display_name": "Python 3",
   "language": "python",
   "name": "python3"
  },
  "language_info": {
   "codemirror_mode": {
    "name": "ipython",
    "version": 3
   },
   "file_extension": ".py",
   "mimetype": "text/x-python",
   "name": "python",
   "nbconvert_exporter": "python",
   "pygments_lexer": "ipython3",
   "version": "3.6.8"
  }
 },
 "nbformat": 4,
 "nbformat_minor": 2
}
